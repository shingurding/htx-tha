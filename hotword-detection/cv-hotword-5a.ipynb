{
 "cells": [
  {
   "cell_type": "markdown",
   "metadata": {},
   "source": [
    "### Task 5a\n",
    "\n",
    "This notebook is used to detect whether the generated text from the fine-tuned `Wav2Vec2-large-960h` model contains any of the predefined hot words: \"be careful\", \"destroy\", and \"stranger\". The workflow is as follows:\n",
    "\n",
    "1. **Text Generation**: The audio files are processed using the fine-tuned ASR model to generate transcriptions (done in Task 4). This updated file is saved to `cv-valid-dev-ft-generated.csv`.\n",
    "2. **Hot Word Detection**: The transcriptions are checked for the presence of any of the specified hot words (\"be careful\", \"destroy\", and \"stranger\").\n",
    "3. **Output**: The filenames of the audio files containing the hot words are saved to a text file (`detected.txt`), which lists the audio files where the hot words were detected."
   ]
  },
  {
   "cell_type": "code",
   "execution_count": 2,
   "metadata": {},
   "outputs": [],
   "source": [
    "import pandas as pd\n",
    "\n",
    "from tqdm import tqdm"
   ]
  },
  {
   "cell_type": "code",
   "execution_count": null,
   "metadata": {},
   "outputs": [],
   "source": [
    "# Load dataset\n",
    "cv_valid_dev_df = pd.read_csv(\"cv-valid-dev-ft-generated.csv\")\n",
    "\n",
    "HOT_WORDS = [\"be careful\", \"destroy\", \"stranger\"]\n",
    "\n",
    "def detect_hotwords(text):\n",
    "    \"\"\"Check if any hot words are present in the text\"\"\"\n",
    "    text = str(text).lower()\n",
    "    return any(hot_word in text for hot_word in HOT_WORDS)"
   ]
  },
  {
   "cell_type": "code",
   "execution_count": null,
   "metadata": {},
   "outputs": [
    {
     "name": "stderr",
     "output_type": "stream",
     "text": [
      "Checking text...: 100%|██████████| 4076/4076 [00:00<00:00, 19606.88it/s]"
     ]
    },
    {
     "name": "stdout",
     "output_type": "stream",
     "text": [
      "['cv-valid-dev/sample-000000.mp3', 'cv-valid-dev/sample-000089.mp3', 'cv-valid-dev/sample-000508.mp3', 'cv-valid-dev/sample-000674.mp3', 'cv-valid-dev/sample-001093.mp3', 'cv-valid-dev/sample-001101.mp3', 'cv-valid-dev/sample-001243.mp3', 'cv-valid-dev/sample-001501.mp3', 'cv-valid-dev/sample-001933.mp3', 'cv-valid-dev/sample-002189.mp3', 'cv-valid-dev/sample-002405.mp3', 'cv-valid-dev/sample-002453.mp3', 'cv-valid-dev/sample-002605.mp3', 'cv-valid-dev/sample-003045.mp3', 'cv-valid-dev/sample-003065.mp3', 'cv-valid-dev/sample-003219.mp3', 'cv-valid-dev/sample-003808.mp3']\n"
     ]
    },
    {
     "name": "stderr",
     "output_type": "stream",
     "text": [
      "\n"
     ]
    }
   ],
   "source": [
    "audio_with_hotwords = []  # List of mp3 file with the corresponding hotword detected\n",
    "for idx, row in tqdm(cv_valid_dev_df.iterrows(), total=cv_valid_dev_df.shape[0], desc=\"Checking text...\"):\n",
    "    text = row[\"ft_generated_text\"]\n",
    "    hotwords_present = detect_hotwords(text)\n",
    "    if hotwords_present:\n",
    "        audio_with_hotwords.append(row[\"filename\"])"
   ]
  },
  {
   "cell_type": "code",
   "execution_count": 13,
   "metadata": {},
   "outputs": [],
   "source": [
    "# Save into `detected.txt` file\n",
    "with open(\"detected.txt\", \"w\") as f:\n",
    "    for audio_files in audio_with_hotwords:\n",
    "        f.write(audio_files + \"\\n\")"
   ]
  }
 ],
 "metadata": {
  "kernelspec": {
   "display_name": ".venv",
   "language": "python",
   "name": "python3"
  },
  "language_info": {
   "codemirror_mode": {
    "name": "ipython",
    "version": 3
   },
   "file_extension": ".py",
   "mimetype": "text/x-python",
   "name": "python",
   "nbconvert_exporter": "python",
   "pygments_lexer": "ipython3",
   "version": "3.10.0"
  }
 },
 "nbformat": 4,
 "nbformat_minor": 2
}
