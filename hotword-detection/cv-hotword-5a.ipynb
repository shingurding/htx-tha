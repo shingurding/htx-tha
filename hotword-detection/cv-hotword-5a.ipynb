{
 "cells": [
  {
   "cell_type": "code",
   "execution_count": 2,
   "metadata": {},
   "outputs": [],
   "source": [
    "import pandas as pd"
   ]
  },
  {
   "cell_type": "code",
   "execution_count": 27,
   "metadata": {},
   "outputs": [],
   "source": [
    "cv_valid_dev_df = pd.read_csv(\"cv-valid-dev-results.csv\")\n",
    "\n",
    "HOT_WORDS = [\"be careful\", \"destroy\", \"stranger\"]\n",
    "\n",
    "def detect_hotwords(text):\n",
    "    \"\"\"Check if any hot words are present in the text\"\"\"\n",
    "    text = str(text).lower()\n",
    "    return any(hot_word in text for hot_word in HOT_WORDS)"
   ]
  }
 ],
 "metadata": {
  "kernelspec": {
   "display_name": ".venv",
   "language": "python",
   "name": "python3"
  },
  "language_info": {
   "codemirror_mode": {
    "name": "ipython",
    "version": 3
   },
   "file_extension": ".py",
   "mimetype": "text/x-python",
   "name": "python",
   "nbconvert_exporter": "python",
   "pygments_lexer": "ipython3",
   "version": "3.11.5"
  }
 },
 "nbformat": 4,
 "nbformat_minor": 2
}
