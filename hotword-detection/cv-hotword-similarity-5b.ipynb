{
 "cells": [
  {
   "cell_type": "markdown",
   "metadata": {},
   "source": [
    "### Task 5b\n",
    "\n",
    "This notebook uses the text embedding model `hkunlp/instructor-large` to check for the existence of words or phrases that are similar to the predefined hot words: \"be careful\", \"destroy\", and \"stranger\". The steps involved are:\n",
    "\n",
    "1. **Text Embedding Generation**: The texts from `cv-valid-dev.csv` are processed using the `hkunlp/instructor-large` model to generate embeddings for the text.\n",
    "   \n",
    "2. **Similarity Analysis**: The embeddings for the texts are compared to the embeddings of the hot words. The model evaluates the cosine similarity between the transcription and the hot words \"be careful\", \"destroy\", and \"stranger\".\n",
    "\n",
    "3. **Hot Word Detection**: If the similarity score exceeds a predefined threshold (0.8), the transcription is flagged as containing a hot word or a similar phrase.\n",
    "\n",
    "4. **Output**: The Boolean (True for a record containing similar phrases to the hor words or False for a record that is not similar) is saved into a new column called `similarity` and the updated file is saved to `cv-valid-dev-similarity.csv`. "
   ]
  },
  {
   "cell_type": "code",
   "execution_count": 25,
   "metadata": {},
   "outputs": [],
   "source": [
    "import pandas as pd\n",
    "import numpy as np\n",
    "\n",
    "from numpy.linalg import norm\n",
    "from tqdm import tqdm\n",
    "from InstructorEmbedding import INSTRUCTOR\n",
    "from sklearn.metrics.pairwise import cosine_similarity"
   ]
  },
  {
   "cell_type": "code",
   "execution_count": null,
   "metadata": {},
   "outputs": [
    {
     "name": "stderr",
     "output_type": "stream",
     "text": [
      "/Users/shing/htx-tha/.venv/lib/python3.10/site-packages/huggingface_hub/utils/_deprecation.py:131: FutureWarning: 'cached_download' (from 'huggingface_hub.file_download') is deprecated and will be removed from version '0.26'. Use `hf_hub_download` instead.\n",
      "  warnings.warn(warning_message, FutureWarning)\n"
     ]
    },
    {
     "name": "stdout",
     "output_type": "stream",
     "text": [
      "load INSTRUCTOR_Transformer\n",
      "max_seq_length  512\n"
     ]
    }
   ],
   "source": [
    "# Load model\n",
    "model = INSTRUCTOR('hkunlp/instructor-large')"
   ]
  },
  {
   "cell_type": "code",
   "execution_count": 35,
   "metadata": {},
   "outputs": [],
   "source": [
    "instruction = \"Represent the text for semantic similarity:\"\n",
    "\n",
    "def get_embedding(text):\n",
    "    \"\"\"\n",
    "    Embeds a list of texts using INSTRUCTOR.\n",
    "    Returns a NumPy array of the embedding.\n",
    "    \"\"\"\n",
    "    embedding = model.encode([[instruction, text]])\n",
    "\n",
    "    # Normalise embedding\n",
    "    norm_emb = embedding / norm(embedding, axis=1, keepdims=True)\n",
    "    \n",
    "    return norm_emb"
   ]
  },
  {
   "cell_type": "code",
   "execution_count": 36,
   "metadata": {},
   "outputs": [
    {
     "name": "stdout",
     "output_type": "stream",
     "text": [
      "(1, 768)\n",
      "(1, 768)\n",
      "(1, 768)\n",
      "(3, 768)\n"
     ]
    }
   ],
   "source": [
    "# Load data\n",
    "cv_valid_dev = pd.read_csv(\"cv-valid-dev.csv\")\n",
    "\n",
    "hot_words = [\"be careful\", \"destroy\", \"stranger\"]\n",
    "\n",
    "hotword_embeddings_list = []\n",
    "for hot_word in hot_words:\n",
    "    hotword_embedding = get_embedding(hot_word)\n",
    "    hotword_embeddings_list.append(hotword_embedding)\n",
    "    print(hotword_embedding.shape)\n",
    "\n",
    "hotword_embeddings = np.vstack(hotword_embeddings_list)\n",
    "print(hotword_embeddings.shape)"
   ]
  },
  {
   "cell_type": "markdown",
   "metadata": {},
   "source": [
    "A threshold of 0.8 was chosen because, based on experiments and an assessment of the similarity score distribution, it gives a more strict criterion for distinguishing actually comparable words from those that are just slightly related. Cosine similarity values tend to cluster rather high in our embedding space as a result of the instruction's normalisation and semantic representation. However, putting the criterion at 0.8 assures that only texts with a very strong semantic connection—those with substantially similar contextual or conceptual features—are marked as similar. This helps to limit false positives in our hotword identification by guaranteeing that the Boolean conclusion returns True only when there is a high degree of similarity between the record text and the hot words."
   ]
  },
  {
   "cell_type": "code",
   "execution_count": 39,
   "metadata": {},
   "outputs": [
    {
     "name": "stderr",
     "output_type": "stream",
     "text": [
      "Checking similarity...:   0%|          | 0/4076 [00:00<?, ?it/s]"
     ]
    },
    {
     "name": "stderr",
     "output_type": "stream",
     "text": [
      "Checking similarity...: 100%|██████████| 4076/4076 [4:38:51<00:00,  4.10s/it]  "
     ]
    },
    {
     "name": "stdout",
     "output_type": "stream",
     "text": [
      "Updated file successfully saved!\n"
     ]
    },
    {
     "name": "stderr",
     "output_type": "stream",
     "text": [
      "\n"
     ]
    }
   ],
   "source": [
    "# Iterate through each row in the dataset\n",
    "for idx, row in tqdm(cv_valid_dev.iterrows(), total=cv_valid_dev.shape[0], desc=\"Checking similarity...\"):\n",
    "    text = row[\"text\"]\n",
    "    text_embedding = get_embedding(text)\n",
    "\n",
    "    # Compute cosine similarity for the text with the hotwords\n",
    "    similarity = cosine_similarity(text_embedding, hotword_embeddings)\n",
    "    max_similarity = similarity.max()\n",
    "    \n",
    "    # Use a threshold of 0.8\n",
    "    is_similar = max_similarity >= 0.8\n",
    "\n",
    "    # Update generated_text column for the current row\n",
    "    cv_valid_dev.loc[idx, \"similarity\"] = is_similar\n",
    "\n",
    "    # Save the updated file into the same file\n",
    "    cv_valid_dev.iloc[:idx+1].to_csv(\"cv-valid-dev-similarity.csv\", index=False)\n",
    "    \n",
    "print(\"Updated file successfully saved!\")"
   ]
  }
 ],
 "metadata": {
  "kernelspec": {
   "display_name": ".venv",
   "language": "python",
   "name": "python3"
  },
  "language_info": {
   "codemirror_mode": {
    "name": "ipython",
    "version": 3
   },
   "file_extension": ".py",
   "mimetype": "text/x-python",
   "name": "python",
   "nbconvert_exporter": "python",
   "pygments_lexer": "ipython3",
   "version": "3.10.0"
  }
 },
 "nbformat": 4,
 "nbformat_minor": 2
}
